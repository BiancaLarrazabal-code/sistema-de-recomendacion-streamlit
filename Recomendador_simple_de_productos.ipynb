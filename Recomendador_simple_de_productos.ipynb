{
  "nbformat": 4,
  "nbformat_minor": 0,
  "metadata": {
    "colab": {
      "provenance": []
    },
    "kernelspec": {
      "name": "python3",
      "display_name": "Python 3"
    },
    "language_info": {
      "name": "python"
    }
  },
  "cells": [
    {
      "cell_type": "markdown",
      "source": [
        "#**Recomendador simple de productos**\n",
        "\n",
        "Este proyecto es ideal porque aplica un concepto de machine learning muy popular en una aplicación de negocio muy clara. Se puede crear un sistema de recomendación que sugiera productos o contenido a los usuarios."
      ],
      "metadata": {
        "id": "iQBgoNYcV5s0"
      }
    },
    {
      "cell_type": "code",
      "source": [
        "import pandas as pd\n",
        "import numpy as np\n",
        "from sklearn.metrics.pairwise import cosine_similarity\n",
        "from sklearn.preprocessing import MinMaxScaler\n",
        "import matplotlib.pyplot as plt\n",
        "!pip install streamlit\n",
        "import streamlit as st"
      ],
      "metadata": {
        "colab": {
          "base_uri": "https://localhost:8080/"
        },
        "id": "yWE6DTNmWC6O",
        "outputId": "a9ae096d-4136-4031-c140-8ef2352c236e"
      },
      "execution_count": 32,
      "outputs": [
        {
          "output_type": "stream",
          "name": "stdout",
          "text": [
            "Collecting streamlit\n",
            "  Downloading streamlit-1.49.1-py3-none-any.whl.metadata (9.5 kB)\n",
            "Requirement already satisfied: altair!=5.4.0,!=5.4.1,<6,>=4.0 in /usr/local/lib/python3.12/dist-packages (from streamlit) (5.5.0)\n",
            "Requirement already satisfied: blinker<2,>=1.5.0 in /usr/local/lib/python3.12/dist-packages (from streamlit) (1.9.0)\n",
            "Requirement already satisfied: cachetools<7,>=4.0 in /usr/local/lib/python3.12/dist-packages (from streamlit) (5.5.2)\n",
            "Requirement already satisfied: click<9,>=7.0 in /usr/local/lib/python3.12/dist-packages (from streamlit) (8.2.1)\n",
            "Requirement already satisfied: numpy<3,>=1.23 in /usr/local/lib/python3.12/dist-packages (from streamlit) (2.0.2)\n",
            "Requirement already satisfied: packaging<26,>=20 in /usr/local/lib/python3.12/dist-packages (from streamlit) (25.0)\n",
            "Requirement already satisfied: pandas<3,>=1.4.0 in /usr/local/lib/python3.12/dist-packages (from streamlit) (2.2.2)\n",
            "Requirement already satisfied: pillow<12,>=7.1.0 in /usr/local/lib/python3.12/dist-packages (from streamlit) (11.3.0)\n",
            "Requirement already satisfied: protobuf<7,>=3.20 in /usr/local/lib/python3.12/dist-packages (from streamlit) (5.29.5)\n",
            "Requirement already satisfied: pyarrow>=7.0 in /usr/local/lib/python3.12/dist-packages (from streamlit) (18.1.0)\n",
            "Requirement already satisfied: requests<3,>=2.27 in /usr/local/lib/python3.12/dist-packages (from streamlit) (2.32.4)\n",
            "Requirement already satisfied: tenacity<10,>=8.1.0 in /usr/local/lib/python3.12/dist-packages (from streamlit) (8.5.0)\n",
            "Requirement already satisfied: toml<2,>=0.10.1 in /usr/local/lib/python3.12/dist-packages (from streamlit) (0.10.2)\n",
            "Requirement already satisfied: typing-extensions<5,>=4.4.0 in /usr/local/lib/python3.12/dist-packages (from streamlit) (4.15.0)\n",
            "Requirement already satisfied: watchdog<7,>=2.1.5 in /usr/local/lib/python3.12/dist-packages (from streamlit) (6.0.0)\n",
            "Requirement already satisfied: gitpython!=3.1.19,<4,>=3.0.7 in /usr/local/lib/python3.12/dist-packages (from streamlit) (3.1.45)\n",
            "Collecting pydeck<1,>=0.8.0b4 (from streamlit)\n",
            "  Downloading pydeck-0.9.1-py2.py3-none-any.whl.metadata (4.1 kB)\n",
            "Requirement already satisfied: tornado!=6.5.0,<7,>=6.0.3 in /usr/local/lib/python3.12/dist-packages (from streamlit) (6.4.2)\n",
            "Requirement already satisfied: jinja2 in /usr/local/lib/python3.12/dist-packages (from altair!=5.4.0,!=5.4.1,<6,>=4.0->streamlit) (3.1.6)\n",
            "Requirement already satisfied: jsonschema>=3.0 in /usr/local/lib/python3.12/dist-packages (from altair!=5.4.0,!=5.4.1,<6,>=4.0->streamlit) (4.25.1)\n",
            "Requirement already satisfied: narwhals>=1.14.2 in /usr/local/lib/python3.12/dist-packages (from altair!=5.4.0,!=5.4.1,<6,>=4.0->streamlit) (2.2.0)\n",
            "Requirement already satisfied: gitdb<5,>=4.0.1 in /usr/local/lib/python3.12/dist-packages (from gitpython!=3.1.19,<4,>=3.0.7->streamlit) (4.0.12)\n",
            "Requirement already satisfied: python-dateutil>=2.8.2 in /usr/local/lib/python3.12/dist-packages (from pandas<3,>=1.4.0->streamlit) (2.9.0.post0)\n",
            "Requirement already satisfied: pytz>=2020.1 in /usr/local/lib/python3.12/dist-packages (from pandas<3,>=1.4.0->streamlit) (2025.2)\n",
            "Requirement already satisfied: tzdata>=2022.7 in /usr/local/lib/python3.12/dist-packages (from pandas<3,>=1.4.0->streamlit) (2025.2)\n",
            "Requirement already satisfied: charset_normalizer<4,>=2 in /usr/local/lib/python3.12/dist-packages (from requests<3,>=2.27->streamlit) (3.4.3)\n",
            "Requirement already satisfied: idna<4,>=2.5 in /usr/local/lib/python3.12/dist-packages (from requests<3,>=2.27->streamlit) (3.10)\n",
            "Requirement already satisfied: urllib3<3,>=1.21.1 in /usr/local/lib/python3.12/dist-packages (from requests<3,>=2.27->streamlit) (2.5.0)\n",
            "Requirement already satisfied: certifi>=2017.4.17 in /usr/local/lib/python3.12/dist-packages (from requests<3,>=2.27->streamlit) (2025.8.3)\n",
            "Requirement already satisfied: smmap<6,>=3.0.1 in /usr/local/lib/python3.12/dist-packages (from gitdb<5,>=4.0.1->gitpython!=3.1.19,<4,>=3.0.7->streamlit) (5.0.2)\n",
            "Requirement already satisfied: MarkupSafe>=2.0 in /usr/local/lib/python3.12/dist-packages (from jinja2->altair!=5.4.0,!=5.4.1,<6,>=4.0->streamlit) (3.0.2)\n",
            "Requirement already satisfied: attrs>=22.2.0 in /usr/local/lib/python3.12/dist-packages (from jsonschema>=3.0->altair!=5.4.0,!=5.4.1,<6,>=4.0->streamlit) (25.3.0)\n",
            "Requirement already satisfied: jsonschema-specifications>=2023.03.6 in /usr/local/lib/python3.12/dist-packages (from jsonschema>=3.0->altair!=5.4.0,!=5.4.1,<6,>=4.0->streamlit) (2025.4.1)\n",
            "Requirement already satisfied: referencing>=0.28.4 in /usr/local/lib/python3.12/dist-packages (from jsonschema>=3.0->altair!=5.4.0,!=5.4.1,<6,>=4.0->streamlit) (0.36.2)\n",
            "Requirement already satisfied: rpds-py>=0.7.1 in /usr/local/lib/python3.12/dist-packages (from jsonschema>=3.0->altair!=5.4.0,!=5.4.1,<6,>=4.0->streamlit) (0.27.0)\n",
            "Requirement already satisfied: six>=1.5 in /usr/local/lib/python3.12/dist-packages (from python-dateutil>=2.8.2->pandas<3,>=1.4.0->streamlit) (1.17.0)\n",
            "Downloading streamlit-1.49.1-py3-none-any.whl (10.0 MB)\n",
            "\u001b[2K   \u001b[90m━━━━━━━━━━━━━━━━━━━━━━━━━━━━━━━━━━━━━━━━\u001b[0m \u001b[32m10.0/10.0 MB\u001b[0m \u001b[31m77.0 MB/s\u001b[0m eta \u001b[36m0:00:00\u001b[0m\n",
            "\u001b[?25hDownloading pydeck-0.9.1-py2.py3-none-any.whl (6.9 MB)\n",
            "\u001b[2K   \u001b[90m━━━━━━━━━━━━━━━━━━━━━━━━━━━━━━━━━━━━━━━━\u001b[0m \u001b[32m6.9/6.9 MB\u001b[0m \u001b[31m108.4 MB/s\u001b[0m eta \u001b[36m0:00:00\u001b[0m\n",
            "\u001b[?25hInstalling collected packages: pydeck, streamlit\n",
            "Successfully installed pydeck-0.9.1 streamlit-1.49.1\n"
          ]
        }
      ]
    },
    {
      "cell_type": "markdown",
      "source": [
        "##**Generación de 1,000 datos de productos**"
      ],
      "metadata": {
        "id": "h7HvW-r_WhiU"
      }
    },
    {
      "cell_type": "code",
      "source": [
        "# Se utiliza una semilla para asegurar que los datos sean siempre los mismos.\n",
        "np.random.seed(42)\n",
        "\n",
        "# Se generan 1,000 productos con 5 características aleatorias.\n",
        "# Las características (features) podrían representar cosas como precio, tamaño, etc.\n",
        "# Se crean 5 columnas de números aleatorios para simular las características de los productos.\n",
        "features_data = np.random.rand(1000, 5) * 100\n",
        "product_ids = [f'product_{i+1}' for i in range(1000)]\n",
        "products_df = pd.DataFrame(features_data, columns=['feature_1', 'feature_2', 'feature_3', 'feature_4', 'feature_5'], index=product_ids)"
      ],
      "metadata": {
        "id": "M9JWEqJzWgFz"
      },
      "execution_count": 33,
      "outputs": []
    },
    {
      "cell_type": "markdown",
      "source": [
        "##**2. Normalización de datos**\n",
        "\n",
        "La normalización asegura que las diferentes características de los productos (como el precio, la calificación de estrellas, etc.) tengan el mismo peso.\n",
        "\n",
        "La normalización es un paso crucial para que todas las características tengan el mismo peso y el sistema de recomendación no se incline hacia una sola."
      ],
      "metadata": {
        "id": "yxr188OcYWiU"
      }
    },
    {
      "cell_type": "code",
      "source": [
        "from sklearn.preprocessing import MinMaxScaler\n",
        "\n",
        "# Se crea un objeto para escalar los datos.\n",
        "scaler = MinMaxScaler()\n",
        "\n",
        "# Se normalizan los datos para que todos los valores estén entre 0 y 1.\n",
        "products_normalized = scaler.fit_transform(products_df)\n",
        "\n",
        "# Se convierte de nuevo a un DataFrame con los mismos índices y columnas.\n",
        "products_normalized_df = pd.DataFrame(products_normalized, columns=products_df.columns, index=products_df.index)\n",
        "\n",
        "# Ahora, la matriz de similitud se calcula con los datos normalizados.\n",
        "# Se reemplaza la siguiente línea:\n",
        "# similarity_matrix = cosine_similarity(products_df)\n",
        "# Por esta:\n",
        "similarity_matrix = cosine_similarity(products_normalized_df)"
      ],
      "metadata": {
        "id": "EwW2SmSOYpHm"
      },
      "execution_count": 34,
      "outputs": []
    },
    {
      "cell_type": "markdown",
      "source": [
        "##**3. Lógica del sistema: Cálculo de similitud**\n"
      ],
      "metadata": {
        "id": "Rpbj2CKyWq3C"
      }
    },
    {
      "cell_type": "code",
      "source": [
        "# El \"núcleo\" del recomendador\n",
        "# Se calcula la matriz de similitud usando la similitud del coseno.\n",
        "# El resultado es una matriz donde cada valor indica la similitud entre dos productos.\n",
        "similarity_matrix = cosine_similarity(products_df)\n",
        "\n",
        "# Se convierte la matriz de similitud en un DataFrame de pandas para facilitar el trabajo.\n",
        "similarity_df = pd.DataFrame(similarity_matrix, index=products_df.index, columns=products_df.index)"
      ],
      "metadata": {
        "id": "exnpa6rEW138"
      },
      "execution_count": 35,
      "outputs": []
    },
    {
      "cell_type": "markdown",
      "source": [
        "##**4. Función de recomendación**"
      ],
      "metadata": {
        "id": "KmIWA64RXps9"
      }
    },
    {
      "cell_type": "code",
      "source": [
        "def get_recommendations(product_id, similarity_df, num_recommendations=5):\n",
        "    \"\"\"\n",
        "    Función que recomienda productos similares a un producto dado.\n",
        "\n",
        "    Args:\n",
        "        product_id (str): El ID del producto para el que se buscan recomendaciones.\n",
        "        similarity_df (pd.DataFrame): La matriz de similitud de productos.\n",
        "        num_recommendations (int): El número de recomendaciones a devolver.\n",
        "\n",
        "    Returns:\n",
        "        list: Una lista de los IDs de los productos recomendados.\n",
        "    \"\"\"\n",
        "    if product_id not in similarity_df.index:\n",
        "        print(f\"Error: El producto '{product_id}' no se encuentra en el catálogo.\")\n",
        "        return []\n",
        "\n",
        "    # Se obtienen las puntuaciones de similitud para el producto de referencia.\n",
        "    similarity_scores = similarity_df[product_id]\n",
        "\n",
        "    # Se ordenan las puntuaciones en orden descendente.\n",
        "    # Se excluye el producto en sí mismo (su similitud es 1).\n",
        "    sorted_scores = similarity_scores.sort_values(ascending=False)\n",
        "\n",
        "    # Se obtienen los IDs de los productos más similares.\n",
        "    top_recommendations = sorted_scores.index[1:num_recommendations+1]\n",
        "\n",
        "    return top_recommendations.tolist()\n",
        "\n",
        "# --- Ejemplo de uso con una muestra grande ---\n",
        "# Se elige un producto al azar de la muestra.\n",
        "target_product = np.random.choice(products_df.index)\n",
        "\n",
        "# Se llama a la función para obtener las recomendaciones.\n",
        "recommended_products = get_recommendations(target_product, similarity_df)\n",
        "\n",
        "# Se imprimen los resultados para el usuario.\n",
        "print(f\"Producto de referencia: {target_product}\")\n",
        "print(\"---\")\n",
        "print(\"Productos recomendados:\")\n",
        "for product in recommended_products:\n",
        "    print(f\"- {product}\")"
      ],
      "metadata": {
        "colab": {
          "base_uri": "https://localhost:8080/"
        },
        "id": "E_3-uTa3Xsoo",
        "outputId": "b94ad571-c389-48fa-8521-e591f33ccf95"
      },
      "execution_count": 36,
      "outputs": [
        {
          "output_type": "stream",
          "name": "stdout",
          "text": [
            "Producto de referencia: product_51\n",
            "---\n",
            "Productos recomendados:\n",
            "- product_765\n",
            "- product_22\n",
            "- product_671\n",
            "- product_605\n",
            "- product_13\n"
          ]
        }
      ]
    },
    {
      "cell_type": "markdown",
      "source": [
        "##**5. Imprimir las características de los productos para ver la similitud.**\n",
        "\n"
      ],
      "metadata": {
        "id": "XwbjhAo5X6Cy"
      }
    },
    {
      "cell_type": "code",
      "source": [
        "print(\"\\nCaracterísticas del producto de referencia:\")\n",
        "print(products_df.loc[[target_product]])\n",
        "print(\"\\nCaracterísticas de los productos recomendados:\")\n",
        "print(products_df.loc[recommended_products])"
      ],
      "metadata": {
        "colab": {
          "base_uri": "https://localhost:8080/"
        },
        "id": "FlxwINf3X6Ox",
        "outputId": "0bcba116-2878-43e4-e6be-ab62840f6be4"
      },
      "execution_count": 37,
      "outputs": [
        {
          "output_type": "stream",
          "name": "stdout",
          "text": [
            "\n",
            "Características del producto de referencia:\n",
            "            feature_1  feature_2  feature_3  feature_4  feature_5\n",
            "product_51  29.444889  38.509773  85.113667  31.692201  16.949275\n",
            "\n",
            "Características de los productos recomendados:\n",
            "             feature_1  feature_2  feature_3  feature_4  feature_5\n",
            "product_765  35.081911  36.255980  80.571453  32.817948  20.905937\n",
            "product_22   24.929223  41.038292  75.555114  22.879817   7.697991\n",
            "product_671  21.491264  42.485084  90.783851  50.705965  18.792038\n",
            "product_605  28.575832  43.276688  68.544388  33.245616   5.658566\n",
            "product_13   38.867729  27.134903  82.873751  35.675333  28.093451\n"
          ]
        }
      ]
    },
    {
      "cell_type": "markdown",
      "source": [
        "##**6. Uso del sistema y visualización de resultados**"
      ],
      "metadata": {
        "id": "NxPLbYqYaX5W"
      }
    },
    {
      "cell_type": "code",
      "source": [
        "# Se elige un producto al azar de la muestra. Esto simula que un usuario ha seleccionado un producto.\n",
        "target_product = np.random.choice(products_df.index)\n",
        "\n",
        "# Se llama a la función para obtener las recomendaciones.\n",
        "recommended_products = get_recommendations(target_product, similarity_df)\n",
        "\n",
        "# Se imprimen los resultados para el usuario.\n",
        "print(f\"Producto de referencia: {target_product}\")\n",
        "print(\"---\")\n",
        "print(\"Productos recomendados:\")\n",
        "for product in recommended_products:\n",
        "    print(f\"- {product}\")"
      ],
      "metadata": {
        "colab": {
          "base_uri": "https://localhost:8080/"
        },
        "id": "syVkY1L9ayiM",
        "outputId": "9ea92573-793e-4f1e-db87-a4ad4ffa3435"
      },
      "execution_count": 38,
      "outputs": [
        {
          "output_type": "stream",
          "name": "stdout",
          "text": [
            "Producto de referencia: product_1000\n",
            "---\n",
            "Productos recomendados:\n",
            "- product_898\n",
            "- product_136\n",
            "- product_124\n",
            "- product_416\n",
            "- product_556\n"
          ]
        }
      ]
    },
    {
      "cell_type": "markdown",
      "source": [
        "##**7. Visualización de los Resultados**\n",
        "\n"
      ],
      "metadata": {
        "id": "VoD9bD32a7H5"
      }
    },
    {
      "cell_type": "code",
      "source": [
        "import matplotlib.pyplot as plt\n",
        "\n",
        "# Se obtienen las puntuaciones de similitud para los productos recomendados.\n",
        "# Se usa .loc[] para asegurar que el orden de los productos en el gráfico coincida\n",
        "# con el orden de las recomendaciones.\n",
        "recommended_scores = similarity_df.loc[target_product, recommended_products]\n",
        "\n",
        "# Se crea un gráfico de barras para visualizar la similitud.\n",
        "plt.figure(figsize=(10, 6))\n",
        "# Se usa plt.bar() directamente para tener más control sobre la visualización.\n",
        "plt.bar(x=recommended_scores.index, height=recommended_scores.values, color='skyblue')\n",
        "plt.title(f'Similitud de productos recomendados para {target_product}')\n",
        "plt.xlabel('ID del producto')\n",
        "plt.ylabel('Puntuación de similitud')\n",
        "plt.xticks(rotation=45)\n",
        "plt.show()\n",
        "plt.show()"
      ],
      "metadata": {
        "colab": {
          "base_uri": "https://localhost:8080/",
          "height": 622
        },
        "id": "dhfoUTDma-bE",
        "outputId": "f5bcd146-93af-4699-cc73-5ea5d0b599bf"
      },
      "execution_count": 40,
      "outputs": [
        {
          "output_type": "display_data",
          "data": {
            "text/plain": [
              "<Figure size 1000x600 with 1 Axes>"
            ],
            "image/png": "[encoded data removed]"
          },
          "metadata": {}
        }
      ]
    },
    {
      "cell_type": "markdown",
      "source": [
        "##**8. Guardar los Resultados en un Archivo**\n"
      ],
      "metadata": {
        "id": "1ni8VlOgbt6u"
      }
    },
    {
      "cell_type": "code",
      "source": [
        "# Se crea un DataFrame con los productos recomendados y su puntuación de similitud.\n",
        "results_df = pd.DataFrame({\n",
        "    'product_id': recommended_products,\n",
        "    'similitud': recommended_scores.values\n",
        "})\n",
        "\n",
        "# Se guarda el DataFrame en un archivo CSV.\n",
        "results_df.to_csv('recomendaciones_finales.csv', index=False)\n",
        "print(\"\\nLos resultados han sido guardados en 'recomendaciones_finales.csv'\")"
      ],
      "metadata": {
        "colab": {
          "base_uri": "https://localhost:8080/"
        },
        "id": "1xauAZ_6buOQ",
        "outputId": "5b6621bc-c167-4199-df5b-f53b6487762f"
      },
      "execution_count": 41,
      "outputs": [
        {
          "output_type": "stream",
          "name": "stdout",
          "text": [
            "\n",
            "Los resultados han sido guardados en 'recomendaciones_finales.csv'\n"
          ]
        }
      ]
    },
    {
      "cell_type": "markdown",
      "source": [
        "##**9. Interfaz de Usuario Simple**"
      ],
      "metadata": {
        "id": "J6ZZ8mQxb4QN"
      }
    },
    {
      "cell_type": "code",
      "source": [
        "# Se añade un bucle para que el usuario pueda seguir pidiendo recomendaciones.\n",
        "while True:\n",
        "    user_input = input(\"\\nIngresa el ID de un producto (ej: product_123) o 'salir': \")\n",
        "    if user_input.lower() == 'salir':\n",
        "        break\n",
        "\n",
        "    # Se obtienen las recomendaciones para el producto ingresado por el usuario.\n",
        "    user_recommendations = get_recommendations(user_input, similarity_df)\n",
        "\n",
        "    if user_recommendations:\n",
        "        print(f\"Productos recomendados para {user_input}:\")\n",
        "        for product in user_recommendations:\n",
        "            print(f\"- {product}\")"
      ],
      "metadata": {
        "colab": {
          "base_uri": "https://localhost:8080/"
        },
        "id": "YJ-g5-fob4bR",
        "outputId": "96cf71da-6284-431b-d92d-8dba4ff7f93d"
      },
      "execution_count": 42,
      "outputs": [
        {
          "name": "stdout",
          "output_type": "stream",
          "text": [
            "\n",
            "Ingresa el ID de un producto (ej: product_123) o 'salir': product_123\n",
            "Productos recomendados para product_123:\n",
            "- product_932\n",
            "- product_843\n",
            "- product_758\n",
            "- product_879\n",
            "- product_422\n",
            "\n",
            "Ingresa el ID de un producto (ej: product_123) o 'salir': product_540\n",
            "Productos recomendados para product_540:\n",
            "- product_915\n",
            "- product_741\n",
            "- product_933\n",
            "- product_267\n",
            "- product_784\n",
            "\n",
            "Ingresa el ID de un producto (ej: product_123) o 'salir': product_77\n",
            "Productos recomendados para product_77:\n",
            "- product_998\n",
            "- product_899\n",
            "- product_102\n",
            "- product_451\n",
            "- product_290\n",
            "\n",
            "Ingresa el ID de un producto (ej: product_123) o 'salir': salir\n"
          ]
        }
      ]
    },
    {
      "cell_type": "markdown",
      "source": [
        "##**10. Interfaz de usuario con Streamlit**"
      ],
      "metadata": {
        "id": "ocnkS67UdoIw"
      }
    },
    {
      "cell_type": "code",
      "source": [
        "# Se crea el título de la aplicación.\n",
        "st.title(\"Sistema de Recomendación de Productos\")\n",
        "\n",
        "# Se crea un selector para que el usuario elija un producto.\n",
        "product_to_recommend = st.selectbox(\n",
        "    'Selecciona un producto para ver las recomendaciones:',\n",
        "    options=product_ids\n",
        ")\n",
        "\n",
        "# Se crea un botón para activar las recomendaciones.\n",
        "if st.button('Obtener Recomendaciones'):\n",
        "    # Se obtienen las recomendaciones y se muestran los resultados.\n",
        "    recommended_products = get_recommendations(product_to_recommend, similarity_df)\n",
        "\n",
        "    if recommended_products:\n",
        "        st.subheader(\"Productos Recomendados\")\n",
        "        for product in recommended_products:\n",
        "            st.write(f\"- {product}\")\n",
        "\n",
        "        # --- Visualización de los Resultados ---\n",
        "        # Se obtienen las puntuaciones de similitud para los productos recomendados.\n",
        "        recommended_scores = similarity_df.loc[product_to_recommend, recommended_products]\n",
        "\n",
        "        # Se crea un gráfico de barras para visualizar la similitud.\n",
        "        fig, ax = plt.subplots(figsize=(10, 6))\n",
        "        ax.bar(x=recommended_scores.index, height=recommended_scores.values, color='skyblue')\n",
        "        ax.set_title(f'Similitud de productos recomendados para {product_to_recommend}')\n",
        "        ax.set_xlabel('ID del producto')\n",
        "        ax.set_ylabel('Puntuación de similitud')\n",
        "        ax.tick_params(axis='x', rotation=45)\n",
        "        st.pyplot(fig)\n",
        "\n",
        "        # --- Guardar los Resultados en un Archivo ---\n",
        "        # Se crea un DataFrame con los productos recomendados y su puntuación de similitud.\n",
        "        results_df = pd.DataFrame({\n",
        "            'product_id': recommended_products,\n",
        "            'similitud': recommended_scores.values\n",
        "        })\n",
        "\n",
        "        # Se guarda el DataFrame en un archivo CSV.\n",
        "        results_df.to_csv('recomendaciones_finales.csv', index=False)\n",
        "        st.success(\"Los resultados han sido guardados en 'recomendaciones_finales.csv'\")"
      ],
      "metadata": {
        "colab": {
          "base_uri": "https://localhost:8080/"
        },
        "id": "D-VI0wwYeKZ8",
        "outputId": "698cf566-a93d-4f2f-c2d5-f72f5f7aedf1"
      },
      "execution_count": 45,
      "outputs": [
        {
          "output_type": "stream",
          "name": "stderr",
          "text": [
            "2025-09-02 22:17:15.438 Thread 'MainThread': missing ScriptRunContext! This warning can be ignored when running in bare mode.\n",
            "2025-09-02 22:17:15.440 Thread 'MainThread': missing ScriptRunContext! This warning can be ignored when running in bare mode.\n",
            "2025-09-02 22:17:15.441 Thread 'MainThread': missing ScriptRunContext! This warning can be ignored when running in bare mode.\n",
            "2025-09-02 22:17:15.442 Thread 'MainThread': missing ScriptRunContext! This warning can be ignored when running in bare mode.\n",
            "2025-09-02 22:17:15.443 Thread 'MainThread': missing ScriptRunContext! This warning can be ignored when running in bare mode.\n",
            "2025-09-02 22:17:15.444 Thread 'MainThread': missing ScriptRunContext! This warning can be ignored when running in bare mode.\n",
            "2025-09-02 22:17:15.445 Thread 'MainThread': missing ScriptRunContext! This warning can be ignored when running in bare mode.\n",
            "2025-09-02 22:17:15.447 Thread 'MainThread': missing ScriptRunContext! This warning can be ignored when running in bare mode.\n",
            "2025-09-02 22:17:15.447 Thread 'MainThread': missing ScriptRunContext! This warning can be ignored when running in bare mode.\n",
            "2025-09-02 22:17:15.448 Thread 'MainThread': missing ScriptRunContext! This warning can be ignored when running in bare mode.\n",
            "2025-09-02 22:17:15.450 Thread 'MainThread': missing ScriptRunContext! This warning can be ignored when running in bare mode.\n",
            "2025-09-02 22:17:15.451 Thread 'MainThread': missing ScriptRunContext! This warning can be ignored when running in bare mode.\n",
            "2025-09-02 22:17:15.452 Thread 'MainThread': missing ScriptRunContext! This warning can be ignored when running in bare mode.\n",
            "2025-09-02 22:17:15.453 Thread 'MainThread': missing ScriptRunContext! This warning can be ignored when running in bare mode.\n",
            "2025-09-02 22:17:15.454 Thread 'MainThread': missing ScriptRunContext! This warning can be ignored when running in bare mode.\n",
            "2025-09-02 22:17:15.454 Thread 'MainThread': missing ScriptRunContext! This warning can be ignored when running in bare mode.\n"
          ]
        }
      ]
    },
    {
      "cell_type": "markdown",
      "source": [
        "##**11. Archivo app.py**"
      ],
      "metadata": {
        "id": "1YsMCy3ifVCg"
      }
    },
    {
      "cell_type": "code",
      "source": [
        "# Esta celda escribe el archivo 'app.py' en el entorno de Colab.\n",
        "# Es el último paso en el cuaderno antes de subirlo a GitHub.\n",
        "# NOTA: No se copia esta línea (%%writefile) en el archivo de GitHub.\n",
        "\n",
        "%%writefile app.py\n",
        "import streamlit as st\n",
        "import pandas as pd\n",
        "import seaborn as sns\n",
        "import matplotlib.pyplot as plt\n",
        "import numpy as np\n",
        "\n",
        "# Título de la aplicación\n",
        "st.title('Dashboard de Marketing Digital 📈')\n",
        "st.write('Analizando métricas clave para la optimización de la estrategia.')\n",
        "\n",
        "# Carga de los datos (simulada)\n",
        "df = pd.read_csv('fake_data.csv')\n",
        "df['date'] = pd.to_datetime(df['date'])\n",
        "tipos_de_contenido = ['Video', 'Imagen', 'Carrusel']\n",
        "df['content_type'] = np.random.choice(tipos_de_contenido, size=len(df), p=[0.4, 0.4, 0.2])\n",
        "df['day_of_week'] = df['date'].dt.day_name()\n",
        "df['engagement_rate (%)'] = (df['likes'] + df['comments'] + df['shares']) / df['views'] * 100\n",
        "\n",
        "# Gráfico 1: Evolución de Seguidores\n",
        "st.subheader('1. Evolución de Seguidores')\n",
        "fig1, ax1 = plt.subplots(figsize=(10, 6))\n",
        "sns.lineplot(x='date', y='followers', data=df)\n",
        "plt.title('Evolución del Número de Seguidores a lo largo del Tiempo')\n",
        "st.pyplot(fig1)\n",
        "\n",
        "# Gráfico 2: Distribución de Métricas\n",
        "st.subheader('2. Distribución de Métricas')\n",
        "fig2, ax2 = plt.subplots(figsize=(15, 8))\n",
        "plt.subplot(2, 2, 1)\n",
        "sns.histplot(df['likes'], kde=True)\n",
        "plt.title('Distribución de Likes')\n",
        "plt.subplot(2, 2, 2)\n",
        "sns.histplot(df['comments'], kde=True)\n",
        "plt.title('Distribución de Comentarios')\n",
        "plt.subplot(2, 2, 3)\n",
        "sns.histplot(df['shares'], kde=True)\n",
        "plt.title('Distribución de Compartidos')\n",
        "plt.tight_layout()\n",
        "st.pyplot(fig2)\n",
        "\n",
        "# Gráfico 3: Relación entre Vistas y Likes\n",
        "st.subheader('3. Relación entre Vistas y Likes')\n",
        "fig3, ax3 = plt.subplots(figsize=(10, 6))\n",
        "sns.scatterplot(x='views', y='likes', data=df)\n",
        "plt.title('Relación entre Vistas y Likes')\n",
        "st.pyplot(fig3)\n",
        "\n",
        "# Gráfico 4: Comparación de Métricas\n",
        "st.subheader('4. Comparación de Métricas')\n",
        "fig4, ax4 = plt.subplots(figsize=(12, 6))\n",
        "metricas_df = df[['likes', 'comments', 'shares', 'views', 'impressions', 'reach']]\n",
        "metricas_df.sum().plot(kind='bar', color=sns.color_palette('viridis'))\n",
        "plt.title('Comparación de Métricas Totales')\n",
        "plt.ylabel('Cantidad')\n",
        "plt.xticks(rotation=45)\n",
        "st.pyplot(fig4)\n",
        "\n",
        "# Gráfico 5: Top 10 Publicaciones\n",
        "st.subheader('5. Top 10 Publicaciones')\n",
        "top_posts = df.sort_values(by='likes', ascending=False).head(10)\n",
        "fig5, ax5 = plt.subplots(figsize=(12, 6))\n",
        "sns.barplot(x='likes', y='date', data=top_posts, palette='magma')\n",
        "plt.title('Top 10 Publicaciones por Likes')\n",
        "st.pyplot(fig5)\n",
        "\n",
        "\n",
        "# Gráfico 6: Rendimiento del Engagement por Tipo de Contenido\n",
        "st.subheader('6. Rendimiento del Engagement por Tipo de Contenido')\n",
        "fig6, ax6 = plt.subplots(figsize=(10, 6))\n",
        "sns.boxplot(x='content_type', y='engagement_rate (%)', data=df, palette='pastel')\n",
        "plt.title('Rendimiento del Engagement por Tipo de Contenido')\n",
        "plt.xlabel('Tipo de Contenido')\n",
        "plt.ylabel('Tasa de Engagement (%)')\n",
        "st.pyplot(fig6)\n",
        "\n",
        "# Gráfico 7: Engagement Promedio por Día de la Semana\n",
        "st.subheader('7. Engagement Promedio por Día de la Semana')\n",
        "dias_ordenados = ['Monday', 'Tuesday', 'Wednesday', 'Thursday', 'Friday', 'Saturday', 'Sunday']\n",
        "fig7, ax7 = plt.subplots(figsize=(12, 6))\n",
        "sns.barplot(\n",
        "    x='day_of_week',\n",
        "    y='engagement_rate (%)',\n",
        "    data=df,\n",
        "    order=dias_ordenados,\n",
        "    palette='coolwarm',\n",
        "    estimator=np.mean,\n",
        "    errorbar=None\n",
        ")\n",
        "plt.title('Engagement Promedio por Día de la Semana')\n",
        "plt.xlabel('Día de la Semana')\n",
        "plt.ylabel('Tasa de Engagement Promedio (%)')\n",
        "plt.xticks(rotation=45)\n",
        "st.pyplot(fig7)\n",
        "\n",
        "# Gráfico 8: Matriz de Correlación General\n",
        "st.subheader('8. Matriz de Correlación General')\n",
        "df_numerico = df.select_dtypes(include=['number'])\n",
        "correlation_matrix = df_numerico.corr()\n",
        "fig8, ax8 = plt.subplots(figsize=(12, 8))\n",
        "sns.heatmap(correlation_matrix, annot=True, cmap='coolwarm', fmt=\".2f\")\n",
        "plt.title('Mapa de Calor de Correlación entre Métricas')\n",
        "st.pyplot(fig8)\n",
        "\n",
        "# Sección de conclusiones\n",
        "st.subheader('Conclusiones')\n",
        "st.write('---')\n",
        "st.write('Este dashboard es un ejemplo de cómo transformar un análisis técnico en una herramienta de negocio funcional. La metodología utilizada demuestra mi capacidad para generar **insights accionables** que impulsan el crecimiento empresarial.')"
      ],
      "metadata": {
        "colab": {
          "base_uri": "https://localhost:8080/"
        },
        "id": "bwjxI8F3fVSz",
        "outputId": "171a7929-bcae-45da-8b55-9e1723fe499e"
      },
      "execution_count": 50,
      "outputs": [
        {
          "output_type": "stream",
          "name": "stdout",
          "text": [
            "Overwriting app.py\n"
          ]
        }
      ]
    }
  ]
}